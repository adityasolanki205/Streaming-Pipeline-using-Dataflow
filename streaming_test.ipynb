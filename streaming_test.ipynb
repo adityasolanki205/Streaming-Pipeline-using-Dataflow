{
 "cells": [
  {
   "cell_type": "code",
   "execution_count": 1,
   "metadata": {},
   "outputs": [
    {
     "name": "stdout",
     "output_type": "stream",
     "text": [
      "name: Jennifer Smith\n",
      "address: 399 Troy Mission\n",
      "Port Frankchester, NV 84170\n",
      "text: Weight style concern price anyone agreement play man. Base lawyer establish they.\n",
      "Data child night. Cost quality note be bank arm level no.\n"
     ]
    }
   ],
   "source": [
    "from faker import Faker\n",
    "\n",
    "faker = Faker()\n",
    "print(f'name: {faker.name()}')\n",
    "print(f'address: {faker.address()}')\n",
    "\n",
    "print(f'text: {faker.text()}')\n"
   ]
  },
  {
   "cell_type": "code",
   "execution_count": 7,
   "metadata": {},
   "outputs": [],
   "source": [
    "import random\n",
    "\n",
    "Existing_account = ['B11',\n",
    "                    'A12',\n",
    "                    'C14',\n",
    "                    'D11',\n",
    "                    'E11',\n",
    "                    'A14',\n",
    "                    'G12',\n",
    "                    'F12',\n",
    "                    'A11',\n",
    "                    'NULL',\n",
    "                    'H11',\n",
    "                    'I11',\n",
    "                    'J14',\n",
    "                    'K14',\n",
    "                    'L11',\n",
    "                    'A13'\n",
    "                   ]\n",
    "Duration_month = [  '6',\n",
    "                    '48',\n",
    "                    '12',\n",
    "                    '42',\n",
    "                    '24',\n",
    "                    '36',\n",
    "                    '30',\n",
    "                    '15',\n",
    "                    '9',\n",
    "                    '10',\n",
    "                    '7',\n",
    "                    '60',\n",
    "                    '18',\n",
    "                    '45',\n",
    "                    '11',\n",
    "                    '27',\n",
    "                    '8',\n",
    "                    '54',\n",
    "                    '20',\n",
    "                    '14',\n",
    "                    '33',\n",
    "                    '21',\n",
    "                    '16',\n",
    "                    '4',\n",
    "                    '47',\n",
    "                    '13',\n",
    "                    '22',\n",
    "                    '39',\n",
    "                    '28',\n",
    "                    '5',\n",
    "                    '26',\n",
    "                    '72',\n",
    "                    '40'\n",
    "             ]\n",
    "    \n",
    "Credit_history = [\n",
    "                'A34',\n",
    "                'A32',\n",
    "                'A33',\n",
    "                'A30',\n",
    "                'A31'\n",
    "                ]\n",
    "Purpose = [ 'A43',\n",
    "            'NULL',\n",
    "            'A42',\n",
    "            'A40',\n",
    "            'A46',\n",
    "            'A41',\n",
    "            'A49',\n",
    "            'A44',\n",
    "            'A45',\n",
    "            'A410',\n",
    "            'A48'\n",
    "]\n",
    "Credit_amount = []\n",
    "for i in range(0 ,20000):\n",
    "    Credit_amount.append(i)\n",
    "Saving = [\n",
    "        'A65',\n",
    "        'A61',\n",
    "        'A63',\n",
    "        'A64',\n",
    "        'A62']\n",
    "Employment_duration = []\n",
    "Installment_rate = []\n",
    "Personal_status = []\n",
    "Debtors = []\n",
    "Residential_Duration = []\n",
    "Property = []\n",
    "Age = []\n",
    "Installment_plans = []\n",
    "Housing = []\n",
    "Number_of_credits = []\n",
    "Job = []\n",
    "Liable_People = []\n",
    "Telephone = []\n",
    "Foreign_worker = []\n",
    "Classification = []"
   ]
  },
  {
   "cell_type": "code",
   "execution_count": 8,
   "metadata": {},
   "outputs": [
    {
     "name": "stdout",
     "output_type": "stream",
     "text": [
      "J14\n",
      "48\n"
     ]
    }
   ],
   "source": [
    "print(random.choice(Existing_account))\n",
    "print(random.choice(Duration_month))"
   ]
  },
  {
   "cell_type": "code",
   "execution_count": 11,
   "metadata": {},
   "outputs": [
    {
     "name": "stdout",
     "output_type": "stream",
     "text": [
      "6880\n"
     ]
    }
   ],
   "source": [
    "print(random.choice(Credit_amount))"
   ]
  },
  {
   "cell_type": "code",
   "execution_count": null,
   "metadata": {},
   "outputs": [],
   "source": []
  }
 ],
 "metadata": {
  "kernelspec": {
   "display_name": "Python 3",
   "language": "python",
   "name": "python3"
  },
  "language_info": {
   "codemirror_mode": {
    "name": "ipython",
    "version": 3
   },
   "file_extension": ".py",
   "mimetype": "text/x-python",
   "name": "python",
   "nbconvert_exporter": "python",
   "pygments_lexer": "ipython3",
   "version": "3.7.4"
  }
 },
 "nbformat": 4,
 "nbformat_minor": 4
}
