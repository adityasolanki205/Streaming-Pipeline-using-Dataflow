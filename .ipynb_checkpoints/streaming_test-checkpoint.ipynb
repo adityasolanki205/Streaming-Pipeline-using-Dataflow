{
 "cells": [
  {
   "cell_type": "code",
   "execution_count": 1,
   "metadata": {},
   "outputs": [
    {
     "name": "stdout",
     "output_type": "stream",
     "text": [
      "name: Jennifer Smith\n",
      "address: 399 Troy Mission\n",
      "Port Frankchester, NV 84170\n",
      "text: Weight style concern price anyone agreement play man. Base lawyer establish they.\n",
      "Data child night. Cost quality note be bank arm level no.\n"
     ]
    }
   ],
   "source": [
    "from faker import Faker\n",
    "\n",
    "faker = Faker()\n",
    "print(f'name: {faker.name()}')\n",
    "print(f'address: {faker.address()}')\n",
    "\n",
    "print(f'text: {faker.text()}')\n"
   ]
  },
  {
   "cell_type": "code",
   "execution_count": 9,
   "metadata": {},
   "outputs": [],
   "source": [
    "import random\n",
    "\n",
    "Existing_account = ['B11',\n",
    "                    'A12',\n",
    "                    'C14',\n",
    "                    'D11',\n",
    "                    'E11',\n",
    "                    'A14',\n",
    "                    'G12',\n",
    "                    'F12',\n",
    "                    'A11',\n",
    "                    'NULL',\n",
    "                    'H11',\n",
    "                    'I11',\n",
    "                    'J14',\n",
    "                    'K14',\n",
    "                    'L11',\n",
    "                    'A13'\n",
    "                   ]\n",
    "    Duration_month = [  '6',\n",
    "                        '48',\n",
    "                        '12',\n",
    "                        '42',\n",
    "                        '24',\n",
    "                        '36',\n",
    "                        '30',\n",
    "                        '15',\n",
    "                        '9',\n",
    "                        '10',\n",
    "                        '7',\n",
    "                        '60',\n",
    "                        '18',\n",
    "                        '45',\n",
    "                        '11',\n",
    "                        '27',\n",
    "                        '8',\n",
    "                        '54',\n",
    "                        '20',\n",
    "                        '14',\n",
    "                        '33',\n",
    "                        '21',\n",
    "                        '16',\n",
    "                        '4',\n",
    "                        '47',\n",
    "                        '13',\n",
    "                        '22',\n",
    "                        '39',\n",
    "                        '28',\n",
    "                        '5',\n",
    "                        '26',\n",
    "                        '72',\n",
    "                        '40'\n",
    "                 ]\n"
   ]
  },
  {
   "cell_type": "code",
   "execution_count": null,
   "metadata": {},
   "outputs": [],
   "source": [
    "print(random.choice(Existing_account))\n",
    "print(random.choice(Duration_month))"
   ]
  },
  {
   "cell_type": "code",
   "execution_count": null,
   "metadata": {},
   "outputs": [],
   "source": []
  }
 ],
 "metadata": {
  "kernelspec": {
   "display_name": "Python 3",
   "language": "python",
   "name": "python3"
  },
  "language_info": {
   "codemirror_mode": {
    "name": "ipython",
    "version": 3
   },
   "file_extension": ".py",
   "mimetype": "text/x-python",
   "name": "python",
   "nbconvert_exporter": "python",
   "pygments_lexer": "ipython3",
   "version": "3.7.4"
  }
 },
 "nbformat": 4,
 "nbformat_minor": 4
}
