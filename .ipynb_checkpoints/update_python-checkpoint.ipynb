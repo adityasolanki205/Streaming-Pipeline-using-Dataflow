{
 "cells": [
  {
   "cell_type": "code",
   "execution_count": null,
   "id": "86481a1f-e353-403d-b1b2-8fe4a2c2dcbf",
   "metadata": {},
   "outputs": [],
   "source": [
    "sudo apt update\n",
    "sudo apt install software-properties-common -y\n",
    "sudo add-apt-repository ppa:deadsnakes/ppa -y\n",
    "sudo apt update\n",
    "sudo apt install python3.11 python3.11-venv python3.11-dev -y"
   ]
  },
  {
   "cell_type": "code",
   "execution_count": null,
   "id": "5cf322d5-4bb7-4e10-9afa-ab053faa9037",
   "metadata": {},
   "outputs": [],
   "source": [
    "sudo update-alternatives --install /usr/bin/python3 python3 /usr/bin/python3.12 1\n",
    "sudo update-alternatives --install /usr/bin/python3 python3 /usr/bin/python3.11 2\n",
    "sudo update-alternatives --config python3"
   ]
  },
  {
   "cell_type": "code",
   "execution_count": null,
   "id": "9d56512d-5fc9-4687-b2d2-e9a308e65446",
   "metadata": {},
   "outputs": [],
   "source": [
    "python3 --version"
   ]
  },
  {
   "cell_type": "code",
   "execution_count": null,
   "id": "a6995cae-a2c9-4e19-853e-7070fe7787fc",
   "metadata": {},
   "outputs": [],
   "source": [
    "python3.11 -m venv venv\n",
    "source venv/bin/activate\n",
    "python --version  # Should show 3.11.x"
   ]
  }
 ],
 "metadata": {
  "kernelspec": {
   "display_name": "Python [conda env:base] *",
   "language": "python",
   "name": "conda-base-py"
  },
  "language_info": {
   "codemirror_mode": {
    "name": "ipython",
    "version": 3
   },
   "file_extension": ".py",
   "mimetype": "text/x-python",
   "name": "python",
   "nbconvert_exporter": "python",
   "pygments_lexer": "ipython3",
   "version": "3.9.21"
  }
 },
 "nbformat": 4,
 "nbformat_minor": 5
}
