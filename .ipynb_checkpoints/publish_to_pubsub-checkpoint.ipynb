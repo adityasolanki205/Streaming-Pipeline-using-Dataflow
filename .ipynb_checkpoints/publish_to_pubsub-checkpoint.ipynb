{
 "cells": [
  {
   "cell_type": "code",
   "execution_count": null,
   "metadata": {},
   "outputs": [],
   "source": [
    "from generating_data import generate_log\n",
    "import logging\n",
    "from google.cloud import pubsub_v1\n",
    "import random\n",
    "import time"
   ]
  },
  {
   "cell_type": "code",
   "execution_count": null,
   "metadata": {},
   "outputs": [],
   "source": [
    "PROJECT_ID=\"trusty-field-283517\"\n",
    "TOPIC = \"german_credit_data\"\n",
    "\n",
    "publisher = pubsub_v1.PublisherClient()\n",
    "topic_path = publisher.topic_path(PROJECT_ID, TOPIC)"
   ]
  },
  {
   "cell_type": "code",
   "execution_count": null,
   "metadata": {},
   "outputs": [],
   "source": [
    "def publish(publisher, topic_path, message):\n",
    "    data = message.encode('utf-8')\n",
    "    return publisher.publish(topic_path, data = data)\n",
    "\n",
    "def callback(message_future):\n",
    "    if message_future.exception(timeout=30):\n",
    "        print('Publishing message on {} threw an Exception {}.'.format(\n",
    "            topic_name, message_future.exception()))\n",
    "    else:\n",
    "        print(message_future.result())\n",
    "if __name__ == '__main__':\n",
    "\n",
    "    while True:\n",
    "        line = generate_log()\n",
    "        print(line)\n",
    "        message_future = publish(publisher, topic_path, line)\n",
    "        message_future.add_done_callback(callback)\n",
    "\n",
    "        sleep_time = random.choice(range(1, 3, 1))\n",
    "        time.sleep(sleep_time)"
   ]
  }
 ],
 "metadata": {
  "kernelspec": {
   "display_name": "Python 3",
   "language": "python",
   "name": "python3"
  },
  "language_info": {
   "codemirror_mode": {
    "name": "ipython",
    "version": 3
   },
   "file_extension": ".py",
   "mimetype": "text/x-python",
   "name": "python",
   "nbconvert_exporter": "python",
   "pygments_lexer": "ipython3",
   "version": "3.7.4"
  }
 },
 "nbformat": 4,
 "nbformat_minor": 4
}
